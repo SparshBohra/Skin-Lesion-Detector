{
 "cells": [
  {
   "cell_type": "markdown",
   "metadata": {},
   "source": [
    "## Importing Libraries"
   ]
  },
  {
   "cell_type": "code",
   "execution_count": 1,
   "metadata": {},
   "outputs": [],
   "source": [
    "import math\n",
    "import h5py\n",
    "import pandas as pd\n",
    "import numpy as np\n",
    "\n",
    "from keras import layers\n",
    "from keras.layers import Input, Dense, Activation, ZeroPadding2D, BatchNormalization, Flatten, Conv2D\n",
    "from keras.layers import AveragePooling2D, MaxPooling2D, Dropout, GlobalMaxPooling2D, GlobalAveragePooling2D\n",
    "from keras.callbacks import ModelCheckpoint, EarlyStopping\n",
    "from keras.models import Model\n",
    "from keras.preprocessing import image\n",
    "from keras.utils import layer_utils\n",
    "from keras.utils.data_utils import get_file\n",
    "from keras.applications.imagenet_utils import preprocess_input\n",
    "import pydot\n",
    "from IPython.display import SVG\n",
    "from keras.utils.vis_utils import model_to_dot\n",
    "from keras.utils import plot_model\n",
    "from kt_utils import *\n",
    "\n",
    "import keras.backend as K\n",
    "K.set_image_data_format('channels_last')\n",
    "import seaborn as sns\n",
    "import matplotlib.pyplot as plt\n",
    "from matplotlib.pyplot import imshow\n",
    "import cv2\n",
    "\n",
    "import sklearn.metrics as metrics\n",
    "from sklearn.model_selection import train_test_split\n",
    "from sklearn.metrics import confusion_matrix, classification_report\n",
    "\n",
    "%matplotlib inline"
   ]
  },
  {
   "cell_type": "code",
   "execution_count": 2,
   "metadata": {},
   "outputs": [],
   "source": [
    "data = pd.read_csv('hmnist_28_28_RGB.csv')"
   ]
  },
  {
   "cell_type": "code",
   "execution_count": 3,
   "metadata": {},
   "outputs": [
    {
     "data": {
      "text/plain": [
       "(10015, 2353)"
      ]
     },
     "execution_count": 3,
     "metadata": {},
     "output_type": "execute_result"
    }
   ],
   "source": [
    "data.shape"
   ]
  },
  {
   "cell_type": "code",
   "execution_count": 4,
   "metadata": {},
   "outputs": [
    {
     "data": {
      "text/html": [
       "<div>\n",
       "<style scoped>\n",
       "    .dataframe tbody tr th:only-of-type {\n",
       "        vertical-align: middle;\n",
       "    }\n",
       "\n",
       "    .dataframe tbody tr th {\n",
       "        vertical-align: top;\n",
       "    }\n",
       "\n",
       "    .dataframe thead th {\n",
       "        text-align: right;\n",
       "    }\n",
       "</style>\n",
       "<table border=\"1\" class=\"dataframe\">\n",
       "  <thead>\n",
       "    <tr style=\"text-align: right;\">\n",
       "      <th></th>\n",
       "      <th>pixel0000</th>\n",
       "      <th>pixel0001</th>\n",
       "      <th>pixel0002</th>\n",
       "      <th>pixel0003</th>\n",
       "      <th>pixel0004</th>\n",
       "      <th>pixel0005</th>\n",
       "      <th>pixel0006</th>\n",
       "      <th>pixel0007</th>\n",
       "      <th>pixel0008</th>\n",
       "      <th>pixel0009</th>\n",
       "      <th>...</th>\n",
       "      <th>pixel2343</th>\n",
       "      <th>pixel2344</th>\n",
       "      <th>pixel2345</th>\n",
       "      <th>pixel2346</th>\n",
       "      <th>pixel2347</th>\n",
       "      <th>pixel2348</th>\n",
       "      <th>pixel2349</th>\n",
       "      <th>pixel2350</th>\n",
       "      <th>pixel2351</th>\n",
       "      <th>label</th>\n",
       "    </tr>\n",
       "  </thead>\n",
       "  <tbody>\n",
       "    <tr>\n",
       "      <th>0</th>\n",
       "      <td>192</td>\n",
       "      <td>153</td>\n",
       "      <td>193</td>\n",
       "      <td>195</td>\n",
       "      <td>155</td>\n",
       "      <td>192</td>\n",
       "      <td>197</td>\n",
       "      <td>154</td>\n",
       "      <td>185</td>\n",
       "      <td>202</td>\n",
       "      <td>...</td>\n",
       "      <td>173</td>\n",
       "      <td>124</td>\n",
       "      <td>138</td>\n",
       "      <td>183</td>\n",
       "      <td>147</td>\n",
       "      <td>166</td>\n",
       "      <td>185</td>\n",
       "      <td>154</td>\n",
       "      <td>177</td>\n",
       "      <td>2</td>\n",
       "    </tr>\n",
       "    <tr>\n",
       "      <th>1</th>\n",
       "      <td>25</td>\n",
       "      <td>14</td>\n",
       "      <td>30</td>\n",
       "      <td>68</td>\n",
       "      <td>48</td>\n",
       "      <td>75</td>\n",
       "      <td>123</td>\n",
       "      <td>93</td>\n",
       "      <td>126</td>\n",
       "      <td>158</td>\n",
       "      <td>...</td>\n",
       "      <td>60</td>\n",
       "      <td>39</td>\n",
       "      <td>55</td>\n",
       "      <td>25</td>\n",
       "      <td>14</td>\n",
       "      <td>28</td>\n",
       "      <td>25</td>\n",
       "      <td>14</td>\n",
       "      <td>27</td>\n",
       "      <td>2</td>\n",
       "    </tr>\n",
       "    <tr>\n",
       "      <th>2</th>\n",
       "      <td>192</td>\n",
       "      <td>138</td>\n",
       "      <td>153</td>\n",
       "      <td>200</td>\n",
       "      <td>145</td>\n",
       "      <td>163</td>\n",
       "      <td>201</td>\n",
       "      <td>142</td>\n",
       "      <td>160</td>\n",
       "      <td>206</td>\n",
       "      <td>...</td>\n",
       "      <td>167</td>\n",
       "      <td>129</td>\n",
       "      <td>143</td>\n",
       "      <td>159</td>\n",
       "      <td>124</td>\n",
       "      <td>142</td>\n",
       "      <td>136</td>\n",
       "      <td>104</td>\n",
       "      <td>117</td>\n",
       "      <td>2</td>\n",
       "    </tr>\n",
       "    <tr>\n",
       "      <th>3</th>\n",
       "      <td>38</td>\n",
       "      <td>19</td>\n",
       "      <td>30</td>\n",
       "      <td>95</td>\n",
       "      <td>59</td>\n",
       "      <td>72</td>\n",
       "      <td>143</td>\n",
       "      <td>103</td>\n",
       "      <td>119</td>\n",
       "      <td>171</td>\n",
       "      <td>...</td>\n",
       "      <td>44</td>\n",
       "      <td>26</td>\n",
       "      <td>36</td>\n",
       "      <td>25</td>\n",
       "      <td>12</td>\n",
       "      <td>17</td>\n",
       "      <td>25</td>\n",
       "      <td>12</td>\n",
       "      <td>15</td>\n",
       "      <td>2</td>\n",
       "    </tr>\n",
       "    <tr>\n",
       "      <th>4</th>\n",
       "      <td>158</td>\n",
       "      <td>113</td>\n",
       "      <td>139</td>\n",
       "      <td>194</td>\n",
       "      <td>144</td>\n",
       "      <td>174</td>\n",
       "      <td>215</td>\n",
       "      <td>162</td>\n",
       "      <td>191</td>\n",
       "      <td>225</td>\n",
       "      <td>...</td>\n",
       "      <td>209</td>\n",
       "      <td>166</td>\n",
       "      <td>185</td>\n",
       "      <td>172</td>\n",
       "      <td>135</td>\n",
       "      <td>149</td>\n",
       "      <td>109</td>\n",
       "      <td>78</td>\n",
       "      <td>92</td>\n",
       "      <td>2</td>\n",
       "    </tr>\n",
       "  </tbody>\n",
       "</table>\n",
       "<p>5 rows × 2353 columns</p>\n",
       "</div>"
      ],
      "text/plain": [
       "   pixel0000  pixel0001  pixel0002  pixel0003  pixel0004  pixel0005  \\\n",
       "0        192        153        193        195        155        192   \n",
       "1         25         14         30         68         48         75   \n",
       "2        192        138        153        200        145        163   \n",
       "3         38         19         30         95         59         72   \n",
       "4        158        113        139        194        144        174   \n",
       "\n",
       "   pixel0006  pixel0007  pixel0008  pixel0009  ...  pixel2343  pixel2344  \\\n",
       "0        197        154        185        202  ...        173        124   \n",
       "1        123         93        126        158  ...         60         39   \n",
       "2        201        142        160        206  ...        167        129   \n",
       "3        143        103        119        171  ...         44         26   \n",
       "4        215        162        191        225  ...        209        166   \n",
       "\n",
       "   pixel2345  pixel2346  pixel2347  pixel2348  pixel2349  pixel2350  \\\n",
       "0        138        183        147        166        185        154   \n",
       "1         55         25         14         28         25         14   \n",
       "2        143        159        124        142        136        104   \n",
       "3         36         25         12         17         25         12   \n",
       "4        185        172        135        149        109         78   \n",
       "\n",
       "   pixel2351  label  \n",
       "0        177      2  \n",
       "1         27      2  \n",
       "2        117      2  \n",
       "3         15      2  \n",
       "4         92      2  \n",
       "\n",
       "[5 rows x 2353 columns]"
      ]
     },
     "execution_count": 4,
     "metadata": {},
     "output_type": "execute_result"
    }
   ],
   "source": [
    "data.head()"
   ]
  },
  {
   "cell_type": "markdown",
   "metadata": {},
   "source": [
    "## Prepare Dataset"
   ]
  },
  {
   "cell_type": "markdown",
   "metadata": {},
   "source": [
    "### Preprocessing"
   ]
  },
  {
   "cell_type": "code",
   "execution_count": 5,
   "metadata": {},
   "outputs": [
    {
     "data": {
      "text/plain": [
       "0"
      ]
     },
     "execution_count": 5,
     "metadata": {},
     "output_type": "execute_result"
    }
   ],
   "source": [
    "data.isna().sum().sum()"
   ]
  },
  {
   "cell_type": "code",
   "execution_count": 6,
   "metadata": {},
   "outputs": [],
   "source": [
    "x = data"
   ]
  },
  {
   "cell_type": "code",
   "execution_count": 7,
   "metadata": {},
   "outputs": [],
   "source": [
    "y = x.pop(\"label\")"
   ]
  },
  {
   "cell_type": "code",
   "execution_count": 8,
   "metadata": {},
   "outputs": [
    {
     "data": {
      "text/plain": [
       "4    6705\n",
       "6    1113\n",
       "2    1099\n",
       "1     514\n",
       "0     327\n",
       "5     142\n",
       "3     115\n",
       "Name: label, dtype: int64"
      ]
     },
     "execution_count": 8,
     "metadata": {},
     "output_type": "execute_result"
    }
   ],
   "source": [
    "y.value_counts()"
   ]
  },
  {
   "cell_type": "code",
   "execution_count": 9,
   "metadata": {},
   "outputs": [
    {
     "data": {
      "text/plain": [
       "pandas.core.frame.DataFrame"
      ]
     },
     "execution_count": 9,
     "metadata": {},
     "output_type": "execute_result"
    }
   ],
   "source": [
    "type(x)"
   ]
  },
  {
   "cell_type": "code",
   "execution_count": 10,
   "metadata": {},
   "outputs": [],
   "source": [
    "label_mapping = {\n",
    "    0: 'nv',\n",
    "    1: 'mel',\n",
    "    2: 'bkl',\n",
    "    3: 'bcc',\n",
    "    4: 'akiec',\n",
    "    5: 'vasc',\n",
    "    6: 'df'\n",
    "}"
   ]
  },
  {
   "cell_type": "markdown",
   "metadata": {},
   "source": [
    "### Rescaling"
   ]
  },
  {
   "cell_type": "code",
   "execution_count": 11,
   "metadata": {},
   "outputs": [],
   "source": [
    "x /= 255"
   ]
  },
  {
   "cell_type": "code",
   "execution_count": 12,
   "metadata": {},
   "outputs": [
    {
     "data": {
      "text/plain": [
       "(10015, 2352)"
      ]
     },
     "execution_count": 12,
     "metadata": {},
     "output_type": "execute_result"
    }
   ],
   "source": [
    "x.shape"
   ]
  },
  {
   "cell_type": "code",
   "execution_count": 13,
   "metadata": {},
   "outputs": [
    {
     "data": {
      "text/html": [
       "<div>\n",
       "<style scoped>\n",
       "    .dataframe tbody tr th:only-of-type {\n",
       "        vertical-align: middle;\n",
       "    }\n",
       "\n",
       "    .dataframe tbody tr th {\n",
       "        vertical-align: top;\n",
       "    }\n",
       "\n",
       "    .dataframe thead th {\n",
       "        text-align: right;\n",
       "    }\n",
       "</style>\n",
       "<table border=\"1\" class=\"dataframe\">\n",
       "  <thead>\n",
       "    <tr style=\"text-align: right;\">\n",
       "      <th></th>\n",
       "      <th>pixel0000</th>\n",
       "      <th>pixel0001</th>\n",
       "      <th>pixel0002</th>\n",
       "      <th>pixel0003</th>\n",
       "      <th>pixel0004</th>\n",
       "      <th>pixel0005</th>\n",
       "      <th>pixel0006</th>\n",
       "      <th>pixel0007</th>\n",
       "      <th>pixel0008</th>\n",
       "      <th>pixel0009</th>\n",
       "      <th>...</th>\n",
       "      <th>pixel2342</th>\n",
       "      <th>pixel2343</th>\n",
       "      <th>pixel2344</th>\n",
       "      <th>pixel2345</th>\n",
       "      <th>pixel2346</th>\n",
       "      <th>pixel2347</th>\n",
       "      <th>pixel2348</th>\n",
       "      <th>pixel2349</th>\n",
       "      <th>pixel2350</th>\n",
       "      <th>pixel2351</th>\n",
       "    </tr>\n",
       "  </thead>\n",
       "  <tbody>\n",
       "    <tr>\n",
       "      <th>0</th>\n",
       "      <td>0.752941</td>\n",
       "      <td>0.600000</td>\n",
       "      <td>0.756863</td>\n",
       "      <td>0.764706</td>\n",
       "      <td>0.607843</td>\n",
       "      <td>0.752941</td>\n",
       "      <td>0.772549</td>\n",
       "      <td>0.603922</td>\n",
       "      <td>0.725490</td>\n",
       "      <td>0.792157</td>\n",
       "      <td>...</td>\n",
       "      <td>0.525490</td>\n",
       "      <td>0.678431</td>\n",
       "      <td>0.486275</td>\n",
       "      <td>0.541176</td>\n",
       "      <td>0.717647</td>\n",
       "      <td>0.576471</td>\n",
       "      <td>0.650980</td>\n",
       "      <td>0.725490</td>\n",
       "      <td>0.603922</td>\n",
       "      <td>0.694118</td>\n",
       "    </tr>\n",
       "    <tr>\n",
       "      <th>1</th>\n",
       "      <td>0.098039</td>\n",
       "      <td>0.054902</td>\n",
       "      <td>0.117647</td>\n",
       "      <td>0.266667</td>\n",
       "      <td>0.188235</td>\n",
       "      <td>0.294118</td>\n",
       "      <td>0.482353</td>\n",
       "      <td>0.364706</td>\n",
       "      <td>0.494118</td>\n",
       "      <td>0.619608</td>\n",
       "      <td>...</td>\n",
       "      <td>0.321569</td>\n",
       "      <td>0.235294</td>\n",
       "      <td>0.152941</td>\n",
       "      <td>0.215686</td>\n",
       "      <td>0.098039</td>\n",
       "      <td>0.054902</td>\n",
       "      <td>0.109804</td>\n",
       "      <td>0.098039</td>\n",
       "      <td>0.054902</td>\n",
       "      <td>0.105882</td>\n",
       "    </tr>\n",
       "    <tr>\n",
       "      <th>2</th>\n",
       "      <td>0.752941</td>\n",
       "      <td>0.541176</td>\n",
       "      <td>0.600000</td>\n",
       "      <td>0.784314</td>\n",
       "      <td>0.568627</td>\n",
       "      <td>0.639216</td>\n",
       "      <td>0.788235</td>\n",
       "      <td>0.556863</td>\n",
       "      <td>0.627451</td>\n",
       "      <td>0.807843</td>\n",
       "      <td>...</td>\n",
       "      <td>0.584314</td>\n",
       "      <td>0.654902</td>\n",
       "      <td>0.505882</td>\n",
       "      <td>0.560784</td>\n",
       "      <td>0.623529</td>\n",
       "      <td>0.486275</td>\n",
       "      <td>0.556863</td>\n",
       "      <td>0.533333</td>\n",
       "      <td>0.407843</td>\n",
       "      <td>0.458824</td>\n",
       "    </tr>\n",
       "    <tr>\n",
       "      <th>3</th>\n",
       "      <td>0.149020</td>\n",
       "      <td>0.074510</td>\n",
       "      <td>0.117647</td>\n",
       "      <td>0.372549</td>\n",
       "      <td>0.231373</td>\n",
       "      <td>0.282353</td>\n",
       "      <td>0.560784</td>\n",
       "      <td>0.403922</td>\n",
       "      <td>0.466667</td>\n",
       "      <td>0.670588</td>\n",
       "      <td>...</td>\n",
       "      <td>0.286275</td>\n",
       "      <td>0.172549</td>\n",
       "      <td>0.101961</td>\n",
       "      <td>0.141176</td>\n",
       "      <td>0.098039</td>\n",
       "      <td>0.047059</td>\n",
       "      <td>0.066667</td>\n",
       "      <td>0.098039</td>\n",
       "      <td>0.047059</td>\n",
       "      <td>0.058824</td>\n",
       "    </tr>\n",
       "    <tr>\n",
       "      <th>4</th>\n",
       "      <td>0.619608</td>\n",
       "      <td>0.443137</td>\n",
       "      <td>0.545098</td>\n",
       "      <td>0.760784</td>\n",
       "      <td>0.564706</td>\n",
       "      <td>0.682353</td>\n",
       "      <td>0.843137</td>\n",
       "      <td>0.635294</td>\n",
       "      <td>0.749020</td>\n",
       "      <td>0.882353</td>\n",
       "      <td>...</td>\n",
       "      <td>0.788235</td>\n",
       "      <td>0.819608</td>\n",
       "      <td>0.650980</td>\n",
       "      <td>0.725490</td>\n",
       "      <td>0.674510</td>\n",
       "      <td>0.529412</td>\n",
       "      <td>0.584314</td>\n",
       "      <td>0.427451</td>\n",
       "      <td>0.305882</td>\n",
       "      <td>0.360784</td>\n",
       "    </tr>\n",
       "  </tbody>\n",
       "</table>\n",
       "<p>5 rows × 2352 columns</p>\n",
       "</div>"
      ],
      "text/plain": [
       "   pixel0000  pixel0001  pixel0002  pixel0003  pixel0004  pixel0005  \\\n",
       "0   0.752941   0.600000   0.756863   0.764706   0.607843   0.752941   \n",
       "1   0.098039   0.054902   0.117647   0.266667   0.188235   0.294118   \n",
       "2   0.752941   0.541176   0.600000   0.784314   0.568627   0.639216   \n",
       "3   0.149020   0.074510   0.117647   0.372549   0.231373   0.282353   \n",
       "4   0.619608   0.443137   0.545098   0.760784   0.564706   0.682353   \n",
       "\n",
       "   pixel0006  pixel0007  pixel0008  pixel0009  ...  pixel2342  pixel2343  \\\n",
       "0   0.772549   0.603922   0.725490   0.792157  ...   0.525490   0.678431   \n",
       "1   0.482353   0.364706   0.494118   0.619608  ...   0.321569   0.235294   \n",
       "2   0.788235   0.556863   0.627451   0.807843  ...   0.584314   0.654902   \n",
       "3   0.560784   0.403922   0.466667   0.670588  ...   0.286275   0.172549   \n",
       "4   0.843137   0.635294   0.749020   0.882353  ...   0.788235   0.819608   \n",
       "\n",
       "   pixel2344  pixel2345  pixel2346  pixel2347  pixel2348  pixel2349  \\\n",
       "0   0.486275   0.541176   0.717647   0.576471   0.650980   0.725490   \n",
       "1   0.152941   0.215686   0.098039   0.054902   0.109804   0.098039   \n",
       "2   0.505882   0.560784   0.623529   0.486275   0.556863   0.533333   \n",
       "3   0.101961   0.141176   0.098039   0.047059   0.066667   0.098039   \n",
       "4   0.650980   0.725490   0.674510   0.529412   0.584314   0.427451   \n",
       "\n",
       "   pixel2350  pixel2351  \n",
       "0   0.603922   0.694118  \n",
       "1   0.054902   0.105882  \n",
       "2   0.407843   0.458824  \n",
       "3   0.047059   0.058824  \n",
       "4   0.305882   0.360784  \n",
       "\n",
       "[5 rows x 2352 columns]"
      ]
     },
     "execution_count": 13,
     "metadata": {},
     "output_type": "execute_result"
    }
   ],
   "source": [
    "x.head()"
   ]
  },
  {
   "cell_type": "markdown",
   "metadata": {},
   "source": [
    "### Reshaping"
   ]
  },
  {
   "cell_type": "code",
   "execution_count": 14,
   "metadata": {},
   "outputs": [
    {
     "data": {
      "text/plain": [
       "pandas.core.frame.DataFrame"
      ]
     },
     "execution_count": 14,
     "metadata": {},
     "output_type": "execute_result"
    }
   ],
   "source": [
    "type(x)"
   ]
  },
  {
   "cell_type": "code",
   "execution_count": 15,
   "metadata": {},
   "outputs": [],
   "source": [
    "x = np.array(x)"
   ]
  },
  {
   "cell_type": "code",
   "execution_count": 16,
   "metadata": {},
   "outputs": [
    {
     "data": {
      "text/plain": [
       "numpy.ndarray"
      ]
     },
     "execution_count": 16,
     "metadata": {},
     "output_type": "execute_result"
    }
   ],
   "source": [
    "type(x)"
   ]
  },
  {
   "cell_type": "code",
   "execution_count": 17,
   "metadata": {},
   "outputs": [
    {
     "data": {
      "text/plain": [
       "(10015, 28, 28, 3)"
      ]
     },
     "execution_count": 17,
     "metadata": {},
     "output_type": "execute_result"
    }
   ],
   "source": [
    "x = x.reshape(-1, 28, 28, 3)\n",
    "x.shape"
   ]
  },
  {
   "cell_type": "code",
   "execution_count": 18,
   "metadata": {},
   "outputs": [
    {
     "data": {
      "text/plain": [
       "pandas.core.series.Series"
      ]
     },
     "execution_count": 18,
     "metadata": {},
     "output_type": "execute_result"
    }
   ],
   "source": [
    "type(y)"
   ]
  },
  {
   "cell_type": "markdown",
   "metadata": {},
   "source": [
    "### Visualizing Data"
   ]
  },
  {
   "cell_type": "code",
   "execution_count": 19,
   "metadata": {},
   "outputs": [],
   "source": [
    "sample_data = pd.Series(list(zip(x, y))).sample(9)\n",
    "\n",
    "sample_X = np.stack(np.array(sample_data.apply(lambda x: x[0])))\n",
    "sample_y = np.array(sample_data.apply(lambda x: x[1]))"
   ]
  },
  {
   "cell_type": "code",
   "execution_count": 20,
   "metadata": {
    "scrolled": true
   },
   "outputs": [
    {
     "data": {
      "image/png": "[encoded data removed]",
      "text/plain": [
       "<Figure size 864x864 with 9 Axes>"
      ]
     },
     "metadata": {
      "needs_background": "light"
     },
     "output_type": "display_data"
    }
   ],
   "source": [
    "plt.figure(figsize=(12, 12))\n",
    "\n",
    "for i in range(9):\n",
    "    plt.subplot(3, 3, i + 1)\n",
    "    plt.imshow(np.squeeze(sample_X[i]))\n",
    "    img_label = label_mapping[sample_y[i]]\n",
    "    plt.title(img_label)\n",
    "    plt.axis(\"off\")\n",
    "\n",
    "plt.show()"
   ]
  },
  {
   "cell_type": "markdown",
   "metadata": {},
   "source": [
    "### Splitting into Train & Test"
   ]
  },
  {
   "cell_type": "code",
   "execution_count": 21,
   "metadata": {},
   "outputs": [],
   "source": [
    "X_train, X_test, Y_train, Y_test = train_test_split(x, y, train_size=0.7, random_state=123)"
   ]
  },
  {
   "cell_type": "code",
   "execution_count": 22,
   "metadata": {},
   "outputs": [],
   "source": [
    "Y_train = Y_train.values"
   ]
  },
  {
   "cell_type": "code",
   "execution_count": 23,
   "metadata": {},
   "outputs": [],
   "source": [
    "Y_train = np.reshape(Y_train, (Y_train.shape[0], 1))"
   ]
  },
  {
   "cell_type": "code",
   "execution_count": 24,
   "metadata": {},
   "outputs": [],
   "source": [
    "Y_test = Y_test.values"
   ]
  },
  {
   "cell_type": "code",
   "execution_count": 25,
   "metadata": {},
   "outputs": [],
   "source": [
    "Y_test = np.reshape(Y_test, (Y_test.shape[0], 1))"
   ]
  },
  {
   "cell_type": "code",
   "execution_count": 26,
   "metadata": {},
   "outputs": [
    {
     "name": "stdout",
     "output_type": "stream",
     "text": [
      "number of training examples = 7010\n",
      "number of test examples = 3005\n",
      "X_train shape: (7010, 28, 28, 3)\n",
      "Y_train shape: (7010, 1)\n",
      "X_test shape: (3005, 28, 28, 3)\n",
      "Y_test shape: (3005, 1)\n"
     ]
    }
   ],
   "source": [
    "print (\"number of training examples = \" + str(X_train.shape[0]))\n",
    "print (\"number of test examples = \" + str(X_test.shape[0]))\n",
    "print (\"X_train shape: \" + str(X_train.shape))\n",
    "print (\"Y_train shape: \" + str(Y_train.shape))\n",
    "print (\"X_test shape: \" + str(X_test.shape))\n",
    "print (\"Y_test shape: \" + str(Y_test.shape))"
   ]
  },
  {
   "cell_type": "markdown",
   "metadata": {},
   "source": [
    "## Building the model"
   ]
  },
  {
   "cell_type": "code",
   "execution_count": 30,
   "metadata": {},
   "outputs": [],
   "source": [
    "def CancerModel(input_shape):\n",
    "    \n",
    "    X_input = Input(input_shape)\n",
    "\n",
    "    X = ZeroPadding2D((2, 2))(X_input)\n",
    "\n",
    "    X = Conv2D(16, (3, 3), strides = (1, 1), name = 'conv')(X)\n",
    "    X = BatchNormalization(axis = 3, name = 'bn1')(X)\n",
    "    X = Activation('relu')(X)\n",
    "\n",
    "    X = MaxPooling2D((2, 2), name='max_pool')(X)\n",
    "    \n",
    "    X = Conv2D(32, (3, 3), strides = (1, 1), name = 'conv2')(X)\n",
    "    X = BatchNormalization(axis = 3, name = 'bn2')(X)\n",
    "    X = Activation('relu')(X)\n",
    "\n",
    "    X = MaxPooling2D((2, 2), name='max_pool2')(X)\n",
    "\n",
    "    X = Flatten()(X)\n",
    "    X = Dense(128, activation='relu', name='fc1')(X)\n",
    "    X = Dropout(0.2)(X)    \n",
    "    X = Dense(64, activation='relu', name='fc2')(X)\n",
    "    X = Dropout(0.2)(X)    \n",
    "    X = Dense(7, activation='softmax', name='output')(X)\n",
    "\n",
    "    model = Model(inputs = X_input, outputs = X, name='CancerModel')\n",
    "\n",
    "    return model"
   ]
  },
  {
   "cell_type": "markdown",
   "metadata": {},
   "source": [
    "### Create the model"
   ]
  },
  {
   "cell_type": "code",
   "execution_count": 31,
   "metadata": {},
   "outputs": [],
   "source": [
    "cancerModel = CancerModel(X_train.shape[1:])"
   ]
  },
  {
   "cell_type": "markdown",
   "metadata": {},
   "source": [
    "### Compile the model"
   ]
  },
  {
   "cell_type": "code",
   "execution_count": 32,
   "metadata": {},
   "outputs": [],
   "source": [
    "cancerModel.compile('adam', 'sparse_categorical_crossentropy', metrics=['accuracy'])"
   ]
  },
  {
   "cell_type": "markdown",
   "metadata": {},
   "source": [
    "## Train the model"
   ]
  },
  {
   "cell_type": "code",
   "execution_count": 33,
   "metadata": {},
   "outputs": [
    {
     "name": "stdout",
     "output_type": "stream",
     "text": [
      "Epoch 1/200\n",
      "165/165 [==============================] - 3s 21ms/step - loss: 0.9924 - accuracy: 0.6675 - val_loss: 1.5177 - val_accuracy: 0.5727\n",
      "Epoch 2/200\n",
      "165/165 [==============================] - 3s 19ms/step - loss: 0.8518 - accuracy: 0.6924 - val_loss: 0.8790 - val_accuracy: 0.6977\n",
      "Epoch 3/200\n",
      "165/165 [==============================] - 3s 19ms/step - loss: 0.7903 - accuracy: 0.7091 - val_loss: 0.8896 - val_accuracy: 0.6811\n",
      "Epoch 4/200\n",
      "165/165 [==============================] - 3s 20ms/step - loss: 0.7672 - accuracy: 0.7253 - val_loss: 0.8090 - val_accuracy: 0.7125\n",
      "Epoch 5/200\n",
      "165/165 [==============================] - 3s 20ms/step - loss: 0.7263 - accuracy: 0.7344 - val_loss: 1.0002 - val_accuracy: 0.7022\n",
      "Epoch 6/200\n",
      "165/165 [==============================] - 3s 20ms/step - loss: 0.6867 - accuracy: 0.7483 - val_loss: 0.7409 - val_accuracy: 0.7365\n",
      "Epoch 7/200\n",
      "165/165 [==============================] - 3s 20ms/step - loss: 0.6653 - accuracy: 0.7624 - val_loss: 0.7770 - val_accuracy: 0.7159\n",
      "Epoch 8/200\n",
      "165/165 [==============================] - 3s 21ms/step - loss: 0.6403 - accuracy: 0.7660 - val_loss: 0.9759 - val_accuracy: 0.6195\n",
      "Epoch 9/200\n",
      "165/165 [==============================] - 4s 25ms/step - loss: 0.6235 - accuracy: 0.7715 - val_loss: 0.7838 - val_accuracy: 0.6851\n",
      "Epoch 10/200\n",
      "165/165 [==============================] - 4s 25ms/step - loss: 0.6026 - accuracy: 0.7776 - val_loss: 0.7999 - val_accuracy: 0.7142\n",
      "Epoch 11/200\n",
      "162/165 [============================>.] - ETA: 0s - loss: 0.5743 - accuracy: 0.7870Restoring model weights from the end of the best epoch.\n",
      "165/165 [==============================] - 4s 22ms/step - loss: 0.5738 - accuracy: 0.7870 - val_loss: 0.8029 - val_accuracy: 0.7045\n",
      "Epoch 00011: early stopping\n"
     ]
    }
   ],
   "source": [
    "monitor = EarlyStopping(monitor='val_loss', \n",
    "                        min_delta=1e-3, \n",
    "                        patience=5, verbose=1, \n",
    "                        restore_best_weights=True)\n",
    "\n",
    "history = cancerModel.fit(X_train, Y_train, \n",
    "                          validation_split = 0.25, \n",
    "                          epochs=200, batch_size=32, \n",
    "                          callbacks=[monitor])"
   ]
  },
  {
   "cell_type": "markdown",
   "metadata": {},
   "source": [
    "## Evaluate the model"
   ]
  },
  {
   "cell_type": "code",
   "execution_count": 34,
   "metadata": {},
   "outputs": [
    {
     "name": "stdout",
     "output_type": "stream",
     "text": [
      "94/94 [==============================] - 1s 6ms/step - loss: 0.7626 - accuracy: 0.7251\n",
      "\n",
      "Loss = 0.76255202293396\n",
      "Test Accuracy = 0.7251247763633728\n"
     ]
    }
   ],
   "source": [
    "preds = cancerModel.evaluate(X_test, Y_test, batch_size=32, verbose=1, sample_weight=None)\n",
    "print()\n",
    "print (\"Loss = \" + str(preds[0]))\n",
    "print (\"Test Accuracy = \" + str(preds[1]))"
   ]
  },
  {
   "cell_type": "code",
   "execution_count": 35,
   "metadata": {},
   "outputs": [
    {
     "name": "stdout",
     "output_type": "stream",
     "text": [
      "Model: \"CancerModel\"\n",
      "_________________________________________________________________\n",
      "Layer (type)                 Output Shape              Param #   \n",
      "=================================================================\n",
      "input_2 (InputLayer)         [(None, 28, 28, 3)]       0         \n",
      "_________________________________________________________________\n",
      "zero_padding2d_1 (ZeroPaddin (None, 32, 32, 3)         0         \n",
      "_________________________________________________________________\n",
      "conv (Conv2D)                (None, 30, 30, 16)        448       \n",
      "_________________________________________________________________\n",
      "bn1 (BatchNormalization)     (None, 30, 30, 16)        64        \n",
      "_________________________________________________________________\n",
      "activation_2 (Activation)    (None, 30, 30, 16)        0         \n",
      "_________________________________________________________________\n",
      "max_pool (MaxPooling2D)      (None, 15, 15, 16)        0         \n",
      "_________________________________________________________________\n",
      "conv2 (Conv2D)               (None, 13, 13, 32)        4640      \n",
      "_________________________________________________________________\n",
      "bn2 (BatchNormalization)     (None, 13, 13, 32)        128       \n",
      "_________________________________________________________________\n",
      "activation_3 (Activation)    (None, 13, 13, 32)        0         \n",
      "_________________________________________________________________\n",
      "max_pool2 (MaxPooling2D)     (None, 6, 6, 32)          0         \n",
      "_________________________________________________________________\n",
      "flatten_1 (Flatten)          (None, 1152)              0         \n",
      "_________________________________________________________________\n",
      "fc1 (Dense)                  (None, 128)               147584    \n",
      "_________________________________________________________________\n",
      "dropout_2 (Dropout)          (None, 128)               0         \n",
      "_________________________________________________________________\n",
      "fc2 (Dense)                  (None, 64)                8256      \n",
      "_________________________________________________________________\n",
      "dropout_3 (Dropout)          (None, 64)                0         \n",
      "_________________________________________________________________\n",
      "output (Dense)               (None, 7)                 455       \n",
      "=================================================================\n",
      "Total params: 161,575\n",
      "Trainable params: 161,479\n",
      "Non-trainable params: 96\n",
      "_________________________________________________________________\n"
     ]
    }
   ],
   "source": [
    "cancerModel.summary()"
   ]
  },
  {
   "cell_type": "code",
   "execution_count": 36,
   "metadata": {},
   "outputs": [
    {
     "name": "stdout",
     "output_type": "stream",
     "text": [
      "dict_keys(['loss', 'accuracy', 'val_loss', 'val_accuracy'])\n"
     ]
    }
   ],
   "source": [
    "print(history.history.keys())"
   ]
  },
  {
   "cell_type": "markdown",
   "metadata": {},
   "source": [
    "### Summarize history for Accuracy"
   ]
  },
  {
   "cell_type": "code",
   "execution_count": 37,
   "metadata": {},
   "outputs": [
    {
     "data": {
      "image/png": "[encoded data removed]",
      "text/plain": [
       "<Figure size 432x288 with 1 Axes>"
      ]
     },
     "metadata": {
      "needs_background": "light"
     },
     "output_type": "display_data"
    }
   ],
   "source": [
    "plt.plot(history.history['accuracy'])\n",
    "plt.plot(history.history['val_accuracy'])\n",
    "plt.title('model accuracy')\n",
    "plt.ylabel('accuracy')\n",
    "plt.xlabel('epoch')\n",
    "plt.legend(['train', 'test'], loc='upper left')\n",
    "plt.show()"
   ]
  },
  {
   "cell_type": "markdown",
   "metadata": {},
   "source": [
    "### Summarize history for Loss"
   ]
  },
  {
   "cell_type": "code",
   "execution_count": 38,
   "metadata": {},
   "outputs": [
    {
     "data": {
      "image/png": "[encoded data removed]",
      "text/plain": [
       "<Figure size 432x288 with 1 Axes>"
      ]
     },
     "metadata": {
      "needs_background": "light"
     },
     "output_type": "display_data"
    }
   ],
   "source": [
    "plt.plot(history.history['loss'])\n",
    "plt.plot(history.history['val_loss'])\n",
    "plt.title('model loss')\n",
    "plt.ylabel('loss')\n",
    "plt.xlabel('epoch')\n",
    "plt.legend(['train', 'test'], loc='upper left')\n",
    "plt.show()"
   ]
  },
  {
   "cell_type": "markdown",
   "metadata": {},
   "source": [
    "## Result"
   ]
  },
  {
   "cell_type": "code",
   "execution_count": 39,
   "metadata": {},
   "outputs": [],
   "source": [
    "y_true = np.array(Y_test)\n",
    "\n",
    "y_pred = cancerModel.predict(X_test)\n",
    "y_pred = np.array(list(map(lambda x: np.argmax(x), y_pred)))"
   ]
  },
  {
   "cell_type": "code",
   "execution_count": 40,
   "metadata": {},
   "outputs": [
    {
     "name": "stderr",
     "output_type": "stream",
     "text": [
      "/Users/sparshbohra/opt/anaconda3/lib/python3.7/site-packages/sklearn/metrics/_classification.py:1272: UndefinedMetricWarning: Precision and F-score are ill-defined and being set to 0.0 in labels with no predicted samples. Use `zero_division` parameter to control this behavior.\n",
      "  _warn_prf(average, modifier, msg_start, len(result))\n"
     ]
    }
   ],
   "source": [
    "cm = confusion_matrix(y_true, y_pred)\n",
    "clr = classification_report(y_true, y_pred, target_names=label_mapping.values())"
   ]
  },
  {
   "cell_type": "code",
   "execution_count": 41,
   "metadata": {},
   "outputs": [
    {
     "data": {
      "image/png": "[encoded data removed]",
      "text/plain": [
       "<Figure size 720x720 with 1 Axes>"
      ]
     },
     "metadata": {
      "needs_background": "light"
     },
     "output_type": "display_data"
    }
   ],
   "source": [
    "plt.figure(figsize=(10, 10))\n",
    "sns.heatmap(cm, annot=True, fmt='g', vmin=0, cbar=False, cmap='Blues')\n",
    "\n",
    "plt.xticks(np.arange(7) + 0.5, label_mapping.values())\n",
    "plt.xlabel(\"Predicted\")\n",
    "\n",
    "plt.yticks(np.arange(7) + 0.5, label_mapping.values())\n",
    "plt.ylabel(\"Actual\")\n",
    "\n",
    "plt.title(\"Confusion Matrix\")\n",
    "\n",
    "plt.show()"
   ]
  },
  {
   "cell_type": "code",
   "execution_count": 42,
   "metadata": {},
   "outputs": [
    {
     "name": "stdout",
     "output_type": "stream",
     "text": [
      "              precision    recall  f1-score   support\n",
      "\n",
      "          nv       0.25      0.20      0.22        94\n",
      "         mel       0.61      0.25      0.36       154\n",
      "         bkl       0.45      0.44      0.44       328\n",
      "         bcc       0.00      0.00      0.00        37\n",
      "       akiec       0.80      0.94      0.87      1990\n",
      "        vasc       0.57      0.47      0.52        49\n",
      "          df       0.48      0.25      0.33       353\n",
      "\n",
      "    accuracy                           0.73      3005\n",
      "   macro avg       0.45      0.36      0.39      3005\n",
      "weighted avg       0.69      0.73      0.69      3005\n",
      "\n"
     ]
    }
   ],
   "source": [
    "print(clr)"
   ]
  },
  {
   "cell_type": "markdown",
   "metadata": {},
   "source": [
    "## Test with single images"
   ]
  },
  {
   "cell_type": "code",
   "execution_count": 43,
   "metadata": {},
   "outputs": [
    {
     "name": "stdout",
     "output_type": "stream",
     "text": [
      "[[0.00470541 0.01188531 0.03096708 0.00888862 0.8974859  0.00767638\n",
      "  0.03839113]]\n"
     ]
    },
    {
     "data": {
      "image/png": "[encoded data removed]",
      "text/plain": [
       "<Figure size 432x288 with 1 Axes>"
      ]
     },
     "metadata": {
      "needs_background": "light"
     },
     "output_type": "display_data"
    }
   ],
   "source": [
    "img_path = 'HAM10000_images_part_1/ISIC_0028290.jpg'\n",
    "\n",
    "img = image.load_img(img_path, target_size=(28, 28))\n",
    "imshow(img)\n",
    "\n",
    "x = image.img_to_array(img)\n",
    "x /= 255\n",
    "x = x.reshape(1, 28, 28, 3)\n",
    "\n",
    "final_prediction = cancerModel.predict(x)\n",
    "print(final_prediction)"
   ]
  },
  {
   "cell_type": "code",
   "execution_count": 44,
   "metadata": {},
   "outputs": [],
   "source": [
    "output_labels = [\"Actinic Keratoses and Intraepithelial Carcinoma / Bowen's Disease (akiec)\",\n",
    "                 \"Basal Cell Carcinoma (bcc)\",\n",
    "                 \"Benign Keratosis-like Lesions (solar lentigines / seborrheic keratoses and lichen-planus like keratoses, bkl)\",\n",
    "                 \"Dermatofibroma (df)\",\n",
    "                 \"Melanocytic Nevi (nv)\",\n",
    "                 \"Vascular Lesions (angiomas, angiokeratomas, pyogenic granulomas and hemorrhage, vasc)\",\n",
    "                 \"Melanoma (mel)\"]\n",
    "output_length = len(output_labels)"
   ]
  },
  {
   "cell_type": "code",
   "execution_count": 47,
   "metadata": {},
   "outputs": [
    {
     "name": "stdout",
     "output_type": "stream",
     "text": [
      "Melanocytic Nevi (nv)\n"
     ]
    }
   ],
   "source": [
    "p = np.argmax(final_prediction[0])\n",
    "print(output_labels[p])"
   ]
  },
  {
   "cell_type": "code",
   "execution_count": 49,
   "metadata": {},
   "outputs": [],
   "source": [
    "cancerModel.save('CancerClassifier_v1.h5')"
   ]
  },
  {
   "cell_type": "code",
   "execution_count": null,
   "metadata": {},
   "outputs": [],
   "source": []
  }
 ],
 "metadata": {
  "kernelspec": {
   "display_name": "Python 3",
   "language": "python",
   "name": "python3"
  },
  "language_info": {
   "codemirror_mode": {
    "name": "ipython",
    "version": 3
   },
   "file_extension": ".py",
   "mimetype": "text/x-python",
   "name": "python",
   "nbconvert_exporter": "python",
   "pygments_lexer": "ipython3",
   "version": "3.7.9"
  }
 },
 "nbformat": 4,
 "nbformat_minor": 4
}
